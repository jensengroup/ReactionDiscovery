{
 "cells": [
  {
   "cell_type": "code",
   "execution_count": 14,
   "metadata": {},
   "outputs": [],
   "source": [
    "import copy\n",
    "\n",
    "import pandas as pd\n",
    "import numpy as np\n",
    "\n",
    "import matplotlib.pyplot as plt\n",
    "import seaborn as sns\n",
    "\n",
    "from rdkit import Chem\n",
    "from rdkit.Chem.Draw import IPythonConsole\n",
    "from rdkit.Chem import rdmolops\n",
    "\n",
    "from take_step.compound import Compound\n",
    "from take_step.take_elementary_step import take_elementary_step, reassign_atom_idx\n",
    "\n",
    "plt.rcParams['xtick.labelsize'] = 16 \n",
    "plt.rcParams['ytick.labelsize'] = 16 \n",
    "plt.rcParams['axes.labelsize'] = 16"
   ]
  },
  {
   "cell_type": "code",
   "execution_count": 2,
   "metadata": {},
   "outputs": [
    {
     "data": {
      "text/plain": [
       "'2020.03.3'"
      ]
     },
     "execution_count": 2,
     "metadata": {},
     "output_type": "execute_result"
    }
   ],
   "source": [
    "import rdkit\n",
    "rdkit.__version__"
   ]
  },
  {
   "cell_type": "markdown",
   "metadata": {},
   "source": [
    "# 1. Import reactant"
   ]
  },
  {
   "cell_type": "code",
   "execution_count": 3,
   "metadata": {},
   "outputs": [
    {
     "data": {
      "image/png": "[encoded data removed]",
      "text/plain": [
       "<rdkit.Chem.rdchem.Mol at 0x7f8759f613a0>"
      ]
     },
     "execution_count": 3,
     "metadata": {},
     "output_type": "execute_result"
    }
   ],
   "source": [
    "reactant = Chem.MolFromSmiles('[C:1](=[O:2])([C@:3]([C@:5]([O:8][O:11][H:12])([H:9])[H:10])([H:6])[H:7])[H:4]', sanitize=False)\n",
    "Chem.SanitizeMol(reactant)\n",
    "reactant = reassign_atom_idx(reactant)\n",
    "rdmolops.AssignStereochemistry(reactant, cleanIt=True, flagPossibleStereoCenters=True, force=True)\n",
    "\n",
    "reactant"
   ]
  },
  {
   "cell_type": "code",
   "execution_count": 4,
   "metadata": {},
   "outputs": [],
   "source": [
    "reac_compound = Compound.from_rdkit(reactant, rdkit_conf=False, name=\"reactant\", charge=0, \n",
    "                        multiplicity=1 , charged_fragments=False)"
   ]
  },
  {
   "cell_type": "markdown",
   "metadata": {},
   "source": [
    "# 2. Create possible products"
   ]
  },
  {
   "cell_type": "code",
   "execution_count": 5,
   "metadata": {},
   "outputs": [],
   "source": [
    "def make_reaction_smarts(df):\n",
    "    \"\"\" \"\"\"\n",
    "    series = []\n",
    "    for row in df.itertuples():\n",
    "        series.append(row.reactant_smiles_am + '>>' + row.product_smiles_am)\n",
    "    return series"
   ]
  },
  {
   "cell_type": "code",
   "execution_count": 6,
   "metadata": {},
   "outputs": [
    {
     "name": "stdout",
     "output_type": "stream",
     "text": [
      ">> Valid Is 29045\n"
     ]
    },
    {
     "data": {
      "application/vnd.jupyter.widget-view+json": {
       "model_id": "331dc41753c54faca7e08fd7e7f64c5e",
       "version_major": 2,
       "version_minor": 0
      },
      "text/plain": [
       "  0%|          | 0/29045 [00:00<?, ?it/s]"
      ]
     },
     "metadata": {},
     "output_type": "display_data"
    },
    {
     "name": "stdout",
     "output_type": "stream",
     "text": [
      "number of unique products: 27577\n"
     ]
    }
   ],
   "source": [
    "atom_mapped_prod_smiles, atom_mapped_prod_mol = take_elementary_step(\n",
    "    reac_compound, max_bonds=3, use_atom_maps=True, all_resonance=False\n",
    ")\n",
    "\n",
    "# make dataframe    \n",
    "all_smiles = pd.DataFrame(atom_mapped_prod_smiles, columns=['product_smiles_am'])\n",
    "all_smiles['reactant_smiles_am'] = [Chem.MolToSmiles(reactant)] * all_smiles.shape[0]\n",
    "all_smiles['reaction'] = make_reaction_smarts(all_smiles)\n",
    "\n",
    "print(f\"number of unique products: {all_smiles.shape[0]}\")"
   ]
  },
  {
   "cell_type": "markdown",
   "metadata": {},
   "source": [
    "# 3. Find all unique fragments \n",
    "\n",
    "## 3.1 Remove label chirality\n"
   ]
  },
  {
   "cell_type": "code",
   "execution_count": 7,
   "metadata": {},
   "outputs": [],
   "source": [
    "def remove_label_chirality(smi):\n",
    "    mol = Chem.MolFromSmiles(smi, sanitize=False)\n",
    "    \n",
    "    # Remove atom mapping\n",
    "    [atom.SetAtomMapNum(0) for atom in mol.GetAtoms()]\n",
    "    \n",
    "    # Reassign stereochemistry \n",
    "    rdmolops.AssignStereochemistry(mol, cleanIt=True, flagPossibleStereoCenters=True, force=True)\n",
    "    \n",
    "    return Chem.MolToSmiles(mol)\n",
    "    \n",
    "all_smiles['reset_product'] = all_smiles['product_smiles_am'].apply(remove_label_chirality)\n",
    "all_smiles['reset_reactant'] = [remove_label_chirality(all_smiles.iloc[0].reactant_smiles_am)]*all_smiles.shape[0]"
   ]
  },
  {
   "cell_type": "markdown",
   "metadata": {},
   "source": [
    "## 3.2 Find all unique fragments and prepare input for PM3\n",
    "Prepare input list to run PM3 calculations on all unique fragments."
   ]
  },
  {
   "cell_type": "code",
   "execution_count": 8,
   "metadata": {},
   "outputs": [],
   "source": [
    "def reaction_fragments(df, max_num_fragments):\n",
    "    frags_df = []\n",
    "    for row in df.itertuples(index=True):\n",
    "        frags = ['NaN']*max_num_fragments\n",
    "        for i, frag in enumerate(row.reset_product.split('.')):\n",
    "            frags[i] = frag\n",
    "        frags_df.append(frags)\n",
    "    frag_df = pd.DataFrame(frags_df, columns=[f\"frag{i}\" for i in range(1,max_num_fragments+1)])\n",
    "    return pd.merge(df, frag_df, left_index=True, right_index=True)\n",
    "\n",
    "def get_unique_fragment_input(df):\n",
    "    fragments = []\n",
    "    n = 0\n",
    "    for row in df.itertuples(index=False):\n",
    "        fragments += row.reset_product.split('.')\n",
    "    \n",
    "    df_fragments = pd.DataFrame(fragments, columns=['fragment'])\n",
    "    df_fragments = df_fragments.drop_duplicates(subset='fragment', keep='first').reset_index(drop=True)\n",
    "    \n",
    "    # Set Id of unique fragments\n",
    "    frag_info = []\n",
    "    for unique_frag in df_fragments.itertuples():\n",
    "        frag_mol = Chem.MolFromSmiles(unique_frag.fragment, sanitize=False)\n",
    "        Chem.SanitizeMol(frag_mol)\n",
    "        \n",
    "        # Find Frag information needed for PM3 calculations\n",
    "        charge = Chem.GetFormalCharge(frag_mol)\n",
    "        calc_charge = 0\n",
    "        \n",
    "        # If the charge of the fragmol is odd it's a monoradical (spin multiplicity 2).\n",
    "        # if it is even it's a biradical (spin multiplicity 1).\n",
    "        # charge is set to 0 for calculations.\n",
    "        if charge % 2 != 0:\n",
    "            spin_multiplicity = 2\n",
    "        else:\n",
    "            spin_multiplicity = 1\n",
    "        frag_info.append((f\"frag{unique_frag.Index}\", calc_charge, spin_multiplicity))\n",
    "    \n",
    "    df_fragments = pd.merge(pd.DataFrame(frag_info, columns=['frag_id', 'charge', 'spin_multiplicity']), \n",
    "                            df_fragments, left_index=True, right_index=True)\n",
    " \n",
    "    return df_fragments"
   ]
  },
  {
   "cell_type": "code",
   "execution_count": 9,
   "metadata": {},
   "outputs": [
    {
     "name": "stdout",
     "output_type": "stream",
     "text": [
      ">> max number of fragments in a molecule:  4\n"
     ]
    }
   ],
   "source": [
    "# What is the maximum number of fragments.\n",
    "max_num_frags = 0\n",
    "for prod_smi in set(all_smiles.reset_product):\n",
    "    frags = len(prod_smi.split('.'))\n",
    "    if frags > max_num_frags:\n",
    "        max_num_frags = frags\n",
    "\n",
    "print(\">> max number of fragments in a molecule: \", max_num_frags)"
   ]
  },
  {
   "cell_type": "code",
   "execution_count": 10,
   "metadata": {},
   "outputs": [
    {
     "name": "stdout",
     "output_type": "stream",
     "text": [
      ">> Number of unique fragments: 4095\n"
     ]
    }
   ],
   "source": [
    "all_smiles_with_fragments = reaction_fragments(all_smiles, max_num_frags)\n",
    "\n",
    "fragment_input = get_unique_fragment_input(all_smiles_with_fragments)\n",
    "fragment_input.to_csv('peroxide_systematic_fragment_pm3_input.csv', index=False)\n",
    "\n",
    "print(f\">> Number of unique fragments: {fragment_input.shape[0]}\")"
   ]
  },
  {
   "cell_type": "markdown",
   "metadata": {},
   "source": [
    "## 4. Read PM3 fragment energies"
   ]
  },
  {
   "cell_type": "code",
   "execution_count": 11,
   "metadata": {},
   "outputs": [
    {
     "name": "stdout",
     "output_type": "stream",
     "text": [
      "Fragments with energy: 1269\n"
     ]
    }
   ],
   "source": [
    "fragment_output = pd.read_csv('data/peroxide_fragment_pm3_output.csv').dropna().reset_index(drop=True)\n",
    "\n",
    "# Choose low energy conformer\n",
    "fragment_output = fragment_output.iloc[fragment_output.groupby('fragname').idxmin()['energy']]\n",
    "\n",
    "# Merge to get Frament smiles\n",
    "fragment_output = pd.merge(fragment_input[['frag_id', 'fragment', 'spin_multiplicity']], fragment_output, \n",
    "                    left_on='frag_id', right_on='fragname', how='left')\n",
    "\n",
    "# Clean dataframe\n",
    "fragment_output.drop(columns=[\"batch\", \"fragname\", \"confname\"], inplace=True)\n",
    "fragment_output.rename(columns={'fragment': 'fragment_smiles', 'spin_multiplicity': 'fragment_spin'}, inplace=True)\n",
    "\n",
    "print(f\"Fragments with energy: {len(fragment_output.dropna())}\")"
   ]
  },
  {
   "cell_type": "markdown",
   "metadata": {},
   "source": [
    "# 5. Compute reaction energies"
   ]
  },
  {
   "cell_type": "code",
   "execution_count": 12,
   "metadata": {},
   "outputs": [
    {
     "name": "stdout",
     "output_type": "stream",
     "text": [
      ">> reaction with energy: 10958\n"
     ]
    }
   ],
   "source": [
    "all_smiles_with_fragments = copy.deepcopy(all_smiles_with_fragments)\n",
    "\n",
    "reaction_energies = []\n",
    "for row in all_smiles_with_fragments.itertuples():\n",
    "    product_energy = 0\n",
    "    for frag_num in range(1,5):\n",
    "        frag_smi = getattr(row, f'frag{frag_num}')\n",
    "        if frag_smi == 'NaN':\n",
    "            break\n",
    "        \n",
    "        frag_energy = fragment_output[fragment_output.fragment_smiles == frag_smi]['energy'].values[0]\n",
    "        if np.isnan(frag_energy):\n",
    "            product_energy = np.float('Nan')\n",
    "            break\n",
    "        else:\n",
    "            product_energy += frag_energy\n",
    "    \n",
    "    reaction_energies.append((f'reac-{row.Index}', np.float(product_energy*627.503 - - 73.448865)))\n",
    "\n",
    "reaction_energies = pd.DataFrame(reaction_energies, columns=['reac_num', 'reaction_enthalpy'])\n",
    "all_smiles_with_fragments = pd.merge(all_smiles_with_fragments, reaction_energies, left_index=True, right_index=True)\n",
    "\n",
    "print(f\">> reaction with energy: {len(all_smiles_with_fragments.dropna())}\")"
   ]
  },
  {
   "cell_type": "code",
   "execution_count": 15,
   "metadata": {},
   "outputs": [
    {
     "data": {
      "image/png": "[encoded data removed]",
      "text/plain": [
       "<Figure size 360x360 with 1 Axes>"
      ]
     },
     "metadata": {
      "needs_background": "light"
     },
     "output_type": "display_data"
    }
   ],
   "source": [
    "fig, ax = plt.subplots(figsize=[5,5])\n",
    "sns.histplot(all_smiles_with_fragments.reaction_enthalpy.to_list(), ax=ax, bins=20, binrange=(-100, 400))\n",
    "ax.set(xlabel='Reaction energy [kcal/mol]')\n",
    "ax.set_title('Systematic', fontsize=18)\n",
    "ax.axvline(30, linestyle='--', c='k', linewidth=2, label='cutoff')\n",
    "ax.legend(fontsize=14)\n",
    "\n",
    "plt.ticklabel_format(axis=\"y\", style=\"sci\", scilimits=(0,1))\n",
    "fig.tight_layout()\n",
    "fig.savefig('pm3_reaction_energies.pdf')"
   ]
  },
  {
   "cell_type": "markdown",
   "metadata": {},
   "source": [
    "# Pick reactions for xTB pathsearch"
   ]
  },
  {
   "cell_type": "code",
   "execution_count": 20,
   "metadata": {},
   "outputs": [
    {
     "data": {
      "text/html": [
       "<div>\n",
       "<style scoped>\n",
       "    .dataframe tbody tr th:only-of-type {\n",
       "        vertical-align: middle;\n",
       "    }\n",
       "\n",
       "    .dataframe tbody tr th {\n",
       "        vertical-align: top;\n",
       "    }\n",
       "\n",
       "    .dataframe thead th {\n",
       "        text-align: right;\n",
       "    }\n",
       "</style>\n",
       "<table border=\"1\" class=\"dataframe\">\n",
       "  <thead>\n",
       "    <tr style=\"text-align: right;\">\n",
       "      <th></th>\n",
       "      <th>reaction_id</th>\n",
       "      <th>reaction</th>\n",
       "      <th>reaction_enthalpy</th>\n",
       "    </tr>\n",
       "  </thead>\n",
       "  <tbody>\n",
       "    <tr>\n",
       "      <th>0</th>\n",
       "      <td>reac-17401</td>\n",
       "      <td>[C:1](=[O:2])([C@:3]([C@:5]([O:8][O:11][H:12])...</td>\n",
       "      <td>-79.651163</td>\n",
       "    </tr>\n",
       "    <tr>\n",
       "      <th>1</th>\n",
       "      <td>reac-17476</td>\n",
       "      <td>[C:1](=[O:2])([C@:3]([C@:5]([O:8][O:11][H:12])...</td>\n",
       "      <td>-79.651163</td>\n",
       "    </tr>\n",
       "    <tr>\n",
       "      <th>2</th>\n",
       "      <td>reac-14853</td>\n",
       "      <td>[C:1](=[O:2])([C@:3]([C@:5]([O:8][O:11][H:12])...</td>\n",
       "      <td>-73.767955</td>\n",
       "    </tr>\n",
       "    <tr>\n",
       "      <th>3</th>\n",
       "      <td>reac-14854</td>\n",
       "      <td>[C:1](=[O:2])([C@:3]([C@:5]([O:8][O:11][H:12])...</td>\n",
       "      <td>-73.767955</td>\n",
       "    </tr>\n",
       "    <tr>\n",
       "      <th>4</th>\n",
       "      <td>reac-2573</td>\n",
       "      <td>[C:1](=[O:2])([C@:3]([C@:5]([O:8][O:11][H:12])...</td>\n",
       "      <td>-73.674646</td>\n",
       "    </tr>\n",
       "    <tr>\n",
       "      <th>...</th>\n",
       "      <td>...</td>\n",
       "      <td>...</td>\n",
       "      <td>...</td>\n",
       "    </tr>\n",
       "    <tr>\n",
       "      <th>1599</th>\n",
       "      <td>reac-22508</td>\n",
       "      <td>[C:1](=[O:2])([C@:3]([C@:5]([O:8][O:11][H:12])...</td>\n",
       "      <td>29.733854</td>\n",
       "    </tr>\n",
       "    <tr>\n",
       "      <th>1600</th>\n",
       "      <td>reac-734</td>\n",
       "      <td>[C:1](=[O:2])([C@:3]([C@:5]([O:8][O:11][H:12])...</td>\n",
       "      <td>29.733854</td>\n",
       "    </tr>\n",
       "    <tr>\n",
       "      <th>1601</th>\n",
       "      <td>reac-22509</td>\n",
       "      <td>[C:1](=[O:2])([C@:3]([C@:5]([O:8][O:11][H:12])...</td>\n",
       "      <td>29.733854</td>\n",
       "    </tr>\n",
       "    <tr>\n",
       "      <th>1602</th>\n",
       "      <td>reac-15578</td>\n",
       "      <td>[C:1](=[O:2])([C@:3]([C@:5]([O:8][O:11][H:12])...</td>\n",
       "      <td>29.733854</td>\n",
       "    </tr>\n",
       "    <tr>\n",
       "      <th>1603</th>\n",
       "      <td>reac-24654</td>\n",
       "      <td>[C:1](=[O:2])([C@:3]([C@:5]([O:8][O:11][H:12])...</td>\n",
       "      <td>29.733854</td>\n",
       "    </tr>\n",
       "  </tbody>\n",
       "</table>\n",
       "<p>1604 rows × 3 columns</p>\n",
       "</div>"
      ],
      "text/plain": [
       "     reaction_id                                           reaction  \\\n",
       "0     reac-17401  [C:1](=[O:2])([C@:3]([C@:5]([O:8][O:11][H:12])...   \n",
       "1     reac-17476  [C:1](=[O:2])([C@:3]([C@:5]([O:8][O:11][H:12])...   \n",
       "2     reac-14853  [C:1](=[O:2])([C@:3]([C@:5]([O:8][O:11][H:12])...   \n",
       "3     reac-14854  [C:1](=[O:2])([C@:3]([C@:5]([O:8][O:11][H:12])...   \n",
       "4      reac-2573  [C:1](=[O:2])([C@:3]([C@:5]([O:8][O:11][H:12])...   \n",
       "...          ...                                                ...   \n",
       "1599  reac-22508  [C:1](=[O:2])([C@:3]([C@:5]([O:8][O:11][H:12])...   \n",
       "1600    reac-734  [C:1](=[O:2])([C@:3]([C@:5]([O:8][O:11][H:12])...   \n",
       "1601  reac-22509  [C:1](=[O:2])([C@:3]([C@:5]([O:8][O:11][H:12])...   \n",
       "1602  reac-15578  [C:1](=[O:2])([C@:3]([C@:5]([O:8][O:11][H:12])...   \n",
       "1603  reac-24654  [C:1](=[O:2])([C@:3]([C@:5]([O:8][O:11][H:12])...   \n",
       "\n",
       "      reaction_enthalpy  \n",
       "0            -79.651163  \n",
       "1            -79.651163  \n",
       "2            -73.767955  \n",
       "3            -73.767955  \n",
       "4            -73.674646  \n",
       "...                 ...  \n",
       "1599          29.733854  \n",
       "1600          29.733854  \n",
       "1601          29.733854  \n",
       "1602          29.733854  \n",
       "1603          29.733854  \n",
       "\n",
       "[1604 rows x 3 columns]"
      ]
     },
     "execution_count": 20,
     "metadata": {},
     "output_type": "execute_result"
    }
   ],
   "source": [
    "# Pick molecules below 30 kcal/mol\n",
    "reactions_to_path_search = all_smiles_with_fragments[all_smiles_with_fragments.reaction_enthalpy < 30.].sort_values('reaction_enthalpy')\n",
    "reactions_to_path_search = reactions_to_path_search[['reaction', 'reaction_enthalpy']]\n",
    "\n",
    "# Clean dataframe\n",
    "reactions_to_path_search = copy.deepcopy(reactions_to_path_search)\n",
    "reaction_id = []\n",
    "for row in reactions_to_path_search.itertuples():\n",
    "    reaction_id.append(f\"reac-{row.Index}\")\n",
    "    \n",
    "reactions_to_path_search['reaction_id'] = reaction_id\n",
    "reactions_to_path_search = reactions_to_path_search[['reaction_id', 'reaction', 'reaction_enthalpy']].reset_index(drop=True)\n",
    "reactions_to_path_search"
   ]
  },
  {
   "cell_type": "code",
   "execution_count": null,
   "metadata": {},
   "outputs": [],
   "source": []
  }
 ],
 "metadata": {
  "kernelspec": {
   "display_name": "take_step",
   "language": "python",
   "name": "take_step"
  },
  "language_info": {
   "codemirror_mode": {
    "name": "ipython",
    "version": 3
   },
   "file_extension": ".py",
   "mimetype": "text/x-python",
   "name": "python",
   "nbconvert_exporter": "python",
   "pygments_lexer": "ipython3",
   "version": "3.7.6"
  }
 },
 "nbformat": 4,
 "nbformat_minor": 4
}
